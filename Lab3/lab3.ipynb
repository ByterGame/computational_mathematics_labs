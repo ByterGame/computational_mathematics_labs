{
 "cells": [
  {
   "cell_type": "markdown",
   "id": "6128f6a9",
   "metadata": {},
   "source": [
    "Нестеров И.С. Б9123-01.03.02сп\n",
    "\n",
    "Тема 3. Дифференцирование таблично заданной функции с помощью многочлена Лагранжа"
   ]
  },
  {
   "cell_type": "markdown",
   "id": "e70ef95b",
   "metadata": {},
   "source": [
    "1. Диффиринцируя заданное число раз интерполяционную формулу Лагранжа, построить формулу численного дифференцирования приближенного вычисления производной таблично заданной функции $f(x) : L_{n}^{(k)}(x_m) \\approx f^{k}(x_m)$, значения n, k, m задаются таблично.\n",
    "Сравнить результаты со значением, получаемым при непосредственном вычислении по формуле $f^{(k)}(x_m)$."
   ]
  },
  {
   "cell_type": "markdown",
   "id": "42294cb8",
   "metadata": {},
   "source": [
    "Я вообще не понял, что там представленно в таблице номер два, поэтому просто проверю на разных функциях из первой таблицы все это дело."
   ]
  },
  {
   "cell_type": "markdown",
   "id": "85c80b26",
   "metadata": {},
   "source": [
    "Выбрал функции:\n",
    "\n",
    "$y_1 = x^2 + \\ln(x)\\\\\n",
    "y_2 = x^2 - \\sin(x)\\\\\n",
    "y_3 = x^2 - 0.5 \\cdot e^{-x}$\n"
   ]
  },
  {
   "cell_type": "markdown",
   "id": "9ca06a7c",
   "metadata": {},
   "source": [
    "$\\displaystyle (y_1)' = 2x + \\frac{1}{x}; \\quad (y_1)'' = 2 - \\frac{1}{x^2}$\n",
    "\n",
    "$\\displaystyle (y_2)' = 2x - \\cos(x); \\quad (y_2)'' = 2 + \\sin(x)$\n",
    "\n",
    "$\\displaystyle (y_3)' = 2x + 0.5e^{-x}; \\quad (y_3)'' = 2 - 0.5e^{-x}$"
   ]
  },
  {
   "cell_type": "code",
   "execution_count": 5,
   "id": "b1a01032",
   "metadata": {},
   "outputs": [
    {
     "name": "stdout",
     "output_type": "stream",
     "text": [
      "Узлы для первой функции: 0.4 0.45 0.5 0.55 0.6 0.65 0.7 0.75 0.8 0.85 0.9\n",
      "Узлы для второй функции: 0.5 0.55 0.6 0.65 0.7 0.75 0.8 0.85 0.9 0.95 1.0\n",
      "Узлы для третьей функции: 0.1 0.15 0.2 0.25 0.3 0.35 0.4 0.45 0.5 0.55 0.6\n"
     ]
    }
   ],
   "source": [
    "print('Узлы для первой функции:', *[round(0.4 + i * 0.05,2) for i in range(11)])\n",
    "print('Узлы для второй функции:', *[round(0.5 + i * 0.05,2) for i in range(11)])\n",
    "print('Узлы для третьей функции:', *[round(0.1 + i * 0.05, 2) for i in range(11)])"
   ]
  },
  {
   "cell_type": "markdown",
   "id": "3be281cf",
   "metadata": {},
   "source": [
    "Построю многочлен Лагранжа второго порядка для произвольной функции и узла\n",
    "\n",
    "$\\displaystyle L(x^*) = f(x_{i-1}) \\frac{(x^* - x_i)(x^* - x_{i + 1})}{(x_{i-1} - x_i)(x_{i-1} - x_{i+1})} + f(x_i) \\frac{(x^* - x_{i-1})(x^* - x_{i+1})}{(x_i - x_{i-1})(x_i - x_{i+1})} + f(x_{i+1}) \\frac{(x^* - x_{i-1})(x^* - x_i)}{(x_{i+1} - x_{i-1})(x_{i+1} - x_{i})}$\n",
    "\n",
    "Продифиринцирую, что $x_{i-1}, x_i, x_{i+1}$ и $f$ от них - константы"
   ]
  },
  {
   "cell_type": "markdown",
   "id": "3706d129",
   "metadata": {},
   "source": [
    "$\\displaystyle L(x^*)' = f(x_{i-1})\\frac{(x^* - x_{i+1}) + (x^* - x_i)}{(x_{i-1} - x_i)(x_{i-1} - x_{i+1})} + f(x_i)\\frac{(x^* - x_{i+1}) + (x^* - x_{i-1})}{(x_i - x_{i-1})(x_i - x_{i+1})} + f(x_{i+1})\\frac{(x^* - x_{i}) + (x^* - x_{i - 1})}{(x_{i + 1} - x_{i - 1})(x_{i + 1} - x_i)}$\n"
   ]
  },
  {
   "cell_type": "markdown",
   "id": "dc69e4f7",
   "metadata": {},
   "source": [
    "Вторая производная будет представлять из себя просто константу, в целом это логично, если обратить внимание, что в изначальных функциях старшая степень квадрат\n",
    "\n",
    "$\\displaystyle L(x^*)'' = \\frac{2f(x_{i-1})}{(x_{i-1} - x_i)(x_{i-1} - x_{i+1})} + \\frac{2f(x_i)}{(x_i - x_{i-1})(x_i - x_{i+1})} + \\frac{2f(x_{i+1})}{(x_{i + 1} - x_{i - 1})(x_{i + 1} - x_i)}$\n"
   ]
  },
  {
   "cell_type": "markdown",
   "id": "74f1fc02",
   "metadata": {},
   "source": [
    "в качестве ноды для проверки я выбрал 0.55, так как она имеется в сетках для каждой функции и проверять одно и то же просто удобнее, а из сетки выбрал соответсвутющий узел и два ближайших"
   ]
  },
  {
   "cell_type": "code",
   "execution_count": 22,
   "id": "e49d363b",
   "metadata": {},
   "outputs": [
    {
     "data": {
      "text/html": [
       "<div>\n",
       "<style scoped>\n",
       "    .dataframe tbody tr th:only-of-type {\n",
       "        vertical-align: middle;\n",
       "    }\n",
       "\n",
       "    .dataframe tbody tr th {\n",
       "        vertical-align: top;\n",
       "    }\n",
       "\n",
       "    .dataframe thead th {\n",
       "        text-align: right;\n",
       "    }\n",
       "</style>\n",
       "<table border=\"1\" class=\"dataframe\">\n",
       "  <thead>\n",
       "    <tr style=\"text-align: right;\">\n",
       "      <th></th>\n",
       "      <th>Функция</th>\n",
       "      <th>Порядок производной</th>\n",
       "      <th>Полином Лагранжа</th>\n",
       "      <th>Истинное значение</th>\n",
       "    </tr>\n",
       "  </thead>\n",
       "  <tbody>\n",
       "    <tr>\n",
       "      <th>0</th>\n",
       "      <td>x^2 + ln(x)</td>\n",
       "      <td>1</td>\n",
       "      <td>2.923216</td>\n",
       "      <td>2.918182</td>\n",
       "    </tr>\n",
       "    <tr>\n",
       "      <th>1</th>\n",
       "      <td>x^2 - sin(x)</td>\n",
       "      <td>1</td>\n",
       "      <td>0.247831</td>\n",
       "      <td>0.247475</td>\n",
       "    </tr>\n",
       "    <tr>\n",
       "      <th>2</th>\n",
       "      <td>x^2 - 0.5 * exp(-x)</td>\n",
       "      <td>1</td>\n",
       "      <td>1.388595</td>\n",
       "      <td>1.388475</td>\n",
       "    </tr>\n",
       "    <tr>\n",
       "      <th>3</th>\n",
       "      <td>x^2 + ln(x)</td>\n",
       "      <td>2</td>\n",
       "      <td>-1.319521</td>\n",
       "      <td>-1.305785</td>\n",
       "    </tr>\n",
       "    <tr>\n",
       "      <th>4</th>\n",
       "      <td>x^2 - sin(x)</td>\n",
       "      <td>2</td>\n",
       "      <td>2.522578</td>\n",
       "      <td>2.852525</td>\n",
       "    </tr>\n",
       "    <tr>\n",
       "      <th>5</th>\n",
       "      <td>x^2 - 0.5 * exp(-x)</td>\n",
       "      <td>2</td>\n",
       "      <td>1.711465</td>\n",
       "      <td>1.711525</td>\n",
       "    </tr>\n",
       "  </tbody>\n",
       "</table>\n",
       "</div>"
      ],
      "text/plain": [
       "               Функция Порядок производной  Полином Лагранжа  \\\n",
       "0          x^2 + ln(x)                   1          2.923216   \n",
       "1         x^2 - sin(x)                   1          0.247831   \n",
       "2  x^2 - 0.5 * exp(-x)                   1          1.388595   \n",
       "3          x^2 + ln(x)                   2         -1.319521   \n",
       "4         x^2 - sin(x)                   2          2.522578   \n",
       "5  x^2 - 0.5 * exp(-x)                   2          1.711465   \n",
       "\n",
       "   Истинное значение  \n",
       "0           2.918182  \n",
       "1           0.247475  \n",
       "2           1.388475  \n",
       "3          -1.305785  \n",
       "4           2.852525  \n",
       "5           1.711525  "
      ]
     },
     "metadata": {},
     "output_type": "display_data"
    }
   ],
   "source": [
    "import numpy as np\n",
    "import pandas as pd\n",
    "from IPython.display import display\n",
    "func_1 = lambda x: x**2 + np.log(x)\n",
    "func_2 = lambda x: x**2 - np.sin(x)\n",
    "func_3 = lambda x: x**2  - 0.5 * np.exp(-x)\n",
    "func_1_first_diff = lambda x: 2*x + 1/x\n",
    "func_2_first_diff = lambda x: 2*x - np.cos(x)\n",
    "func_3_first_diff = lambda x: 2*x + 0.5 * np.exp(-x)\n",
    "func_1_second_diff = lambda x: 2 - 1/(x**2)\n",
    "func_2_second_diff = lambda x: 2 + np.cos(x)\n",
    "func_3_second_diff = lambda x: 2 - 0.5 * np.exp(-x)\n",
    "\n",
    "def find_first_diff(nodes, x, func):\n",
    "    x_im1, x_i, x_ip1 = nodes\n",
    "\n",
    "    f_im1 = func(x_im1)\n",
    "    f_i = func(x_i)\n",
    "    f_ip1 = func(x_ip1)\n",
    "\n",
    "    numerator_im1 = (x - x_ip1) + (x - x_i)\n",
    "    denominator_im1 = (x_im1 - x_i) * (x_im1 - x_ip1)\n",
    "    l_im1_derivative = numerator_im1 / denominator_im1\n",
    "\n",
    "    numerator_i = (x - x_ip1) + (x - x_im1)\n",
    "    denominator_i = (x_i - x_im1) * (x_i - x_ip1)\n",
    "    l_i_derivative = numerator_i / denominator_i\n",
    "\n",
    "    numerator_ip1 = (x - x_i) + (x - x_im1)\n",
    "    denominator_ip1 = (x_ip1 - x_im1) * (x_ip1 - x_i)\n",
    "    l_ip1_derivative = numerator_ip1 / denominator_ip1\n",
    "\n",
    "    L_derivative = (\n",
    "        f_im1 * l_im1_derivative +\n",
    "        f_i * l_i_derivative +\n",
    "        f_ip1 * l_ip1_derivative\n",
    "    )\n",
    "\n",
    "    return L_derivative\n",
    "\n",
    "def find_second_diff(nodes, func):\n",
    "    x_im1, x_i, x_ip1 = nodes\n",
    "\n",
    "    f_im1 = func(x_im1)\n",
    "    f_i = func(x_i)\n",
    "    f_ip1 = func(x_ip1)\n",
    "\n",
    "    l_im1 = 1/((x_im1 - x_i)*(x_im1 - x_ip1))\n",
    "    l_i = 1/((x_i - x_im1)*(x_i - x_ip1))\n",
    "    l_ip1 = 1/((x_ip1 - x_im1)*(x_ip1 - x_i))\n",
    "\n",
    "    L_derivative = (\n",
    "        2 * f_im1 * l_im1 +\n",
    "        2 * f_i * l_i +\n",
    "        2 * f_ip1 * l_ip1\n",
    "    )\n",
    "\n",
    "    return L_derivative\n",
    "\n",
    "dataframe = pd.DataFrame(columns=['Функция', 'Порядок производной','Полином Лагранжа', 'Истинное значение'])\n",
    "dataframe.loc[len(dataframe)] = ['x^2 + ln(x)', '1', find_first_diff([0.5, 0.55, 0.6], 0.55, func_1), func_1_first_diff(0.55)]\n",
    "dataframe.loc[len(dataframe)] = ['x^2 - sin(x)', '1', find_first_diff([0.5, 0.55, 0.6], 0.55, func_2), func_2_first_diff(0.55)]\n",
    "dataframe.loc[len(dataframe)] = ['x^2 - 0.5 * exp(-x)', '1', find_first_diff([0.5, 0.55, 0.6], 0.55, func_3), func_3_first_diff(0.55)]\n",
    "dataframe.loc[len(dataframe)] = ['x^2 + ln(x)', '2', find_second_diff([0.5, 0.55, 0.6], func_1), func_1_second_diff(0.55)]\n",
    "dataframe.loc[len(dataframe)] = ['x^2 - sin(x)', '2', find_second_diff([0.5, 0.55, 0.6], func_2), func_2_second_diff(0.55)]\n",
    "dataframe.loc[len(dataframe)] = ['x^2 - 0.5 * exp(-x)', '2', find_second_diff([0.5, 0.55, 0.6], func_3), func_3_second_diff(0.55)]\n",
    "display(dataframe)"
   ]
  },
  {
   "cell_type": "code",
   "execution_count": null,
   "id": "582b9661",
   "metadata": {},
   "outputs": [],
   "source": []
  }
 ],
 "metadata": {
  "kernelspec": {
   "display_name": "Python 3",
   "language": "python",
   "name": "python3"
  },
  "language_info": {
   "codemirror_mode": {
    "name": "ipython",
    "version": 3
   },
   "file_extension": ".py",
   "mimetype": "text/x-python",
   "name": "python",
   "nbconvert_exporter": "python",
   "pygments_lexer": "ipython3",
   "version": "3.12.10"
  }
 },
 "nbformat": 4,
 "nbformat_minor": 5
}
