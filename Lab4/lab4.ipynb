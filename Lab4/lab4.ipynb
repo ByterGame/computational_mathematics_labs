{
 "cells": [
  {
   "cell_type": "markdown",
   "id": "893044a7",
   "metadata": {},
   "source": [
    "Нестеров И.С. Б9123-01.03.02сп\n",
    "\n",
    "Тема 4. Квадратурные формулы"
   ]
  },
  {
   "cell_type": "markdown",
   "id": "3fa2a92e",
   "metadata": {},
   "source": [
    "Вычислить интеграл $\\int_{a}^{b}f(x)dx$, по моей традиции, в качестве функции выберу $x^2 + \\ln(x)$"
   ]
  },
  {
   "cell_type": "markdown",
   "id": "55803b8d",
   "metadata": {},
   "source": [
    "1. По составной формуле левых прямоугольников"
   ]
  },
  {
   "cell_type": "markdown",
   "id": "188d583c",
   "metadata": {},
   "source": [
    "По факту мы просто реализуем грубое взятие интеграла по Риману, без устремления $n$ к бесконечности.\n",
    "\n",
    "$\\int_a^b f(x) = h\\sum_{i=0}^{n-1} f(x_i)$, где $x_i$ узлы, в которых значение функции известно. \n",
    "\n",
    "Обычно хорошо работает при больших значениях n"
   ]
  },
  {
   "cell_type": "code",
   "execution_count": 18,
   "id": "30127b81",
   "metadata": {},
   "outputs": [],
   "source": [
    "import numpy as np\n",
    "func = lambda x: x**2 + np.log(x)\n",
    "h = 0.05\n",
    "nodes = [round(0.4 + i * h, 2) for i in range(11)]\n",
    "values = [func(nodes[i]) for i in range(11)]"
   ]
  },
  {
   "cell_type": "code",
   "execution_count": 32,
   "id": "4053967c",
   "metadata": {},
   "outputs": [],
   "source": [
    "def left_rect(nodes, n, h, func):\n",
    "    ans = 0\n",
    "    for i in range(n):\n",
    "        ans += h * func(nodes[i])\n",
    "    return ans"
   ]
  },
  {
   "cell_type": "code",
   "execution_count": 33,
   "id": "905fdd6b",
   "metadata": {},
   "outputs": [
    {
     "name": "stdout",
     "output_type": "stream",
     "text": [
      "-0.04324553232342178\n",
      "-0.006641504675715004\n"
     ]
    }
   ],
   "source": [
    "int_func = lambda x: x * np.log(x) + x**3/3 - x\n",
    "print(left_rect(nodes, 10, 0.05, func))\n",
    "print(int_func(0.9) - int_func(0.4))"
   ]
  },
  {
   "cell_type": "markdown",
   "id": "2f66315c",
   "metadata": {},
   "source": [
    "Для левых и правых прямоугольников суть та же, просто формулы немного отличаются\n",
    "\n",
    "Для правых: $\\int_a^b f(x)dx \\approx h\\sum_{i = 1}^{n} f(x_i)$\n",
    "\n",
    "Для центральных: $\\int_a^b f(x)dx \\approx h\\sum_{i = 0}^{n-1} f(x_i + \\frac{h}{2})$"
   ]
  },
  {
   "cell_type": "code",
   "execution_count": 30,
   "id": "c2c26b6f",
   "metadata": {},
   "outputs": [],
   "source": [
    "def right_rect(nodes, n, h, func):\n",
    "    ans = 0\n",
    "    for i in range(1, n):\n",
    "        ans += h * func(nodes[i])\n",
    "    return ans"
   ]
  },
  {
   "cell_type": "code",
   "execution_count": 31,
   "id": "e61bc7c4",
   "metadata": {},
   "outputs": [
    {
     "name": "stdout",
     "output_type": "stream",
     "text": [
      "-0.005430995729714023\n",
      "-0.006641504675715004\n"
     ]
    }
   ],
   "source": [
    "int_func = lambda x: x * np.log(x) + x**3/3 - x\n",
    "print(right_rect(nodes, 10, 0.05, func))\n",
    "print(int_func(0.9) - int_func(0.4))"
   ]
  },
  {
   "cell_type": "code",
   "execution_count": 34,
   "id": "cda9eabc",
   "metadata": {},
   "outputs": [],
   "source": [
    "def mid_rect(nodes, n, h, func):\n",
    "    ans = 0\n",
    "    for i in range(n):\n",
    "        mid = (nodes[i] + nodes[i + 1]) / 2 \n",
    "        ans += h * func(mid)\n",
    "    return ans"
   ]
  },
  {
   "cell_type": "code",
   "execution_count": 35,
   "id": "7225d34c",
   "metadata": {},
   "outputs": [
    {
     "name": "stdout",
     "output_type": "stream",
     "text": [
      "-0.006601210798204492\n",
      "-0.006641504675715004\n"
     ]
    }
   ],
   "source": [
    "int_func = lambda x: x * np.log(x) + x**3/3 - x\n",
    "print(mid_rect(nodes, 10, 0.05, func))\n",
    "print(int_func(0.9) - int_func(0.4))"
   ]
  },
  {
   "cell_type": "markdown",
   "id": "1381f2ca",
   "metadata": {},
   "source": [
    "Формула трапеции — это классический численный метод интегрирования, который приближает интеграл, используя трапеции вместо прямоугольников для оценки площади под кривой. Это повышает точность приближённого значения по сравнению с методами прямоугольников.\n",
    "\n",
    "по факту мы просто наши прямоугольники преобразовали в трапеции\n",
    "\n",
    "$\\int_a^b f(x)dx \\approx \\frac{h}{2}(f(x_0) + 2\\sum_{i = 1}^{n-1}f(x_i) + f(x_n))$"
   ]
  },
  {
   "cell_type": "code",
   "execution_count": 36,
   "id": "e1b36e35",
   "metadata": {},
   "outputs": [],
   "source": [
    "def trapezoid(nodes, n, h, func):\n",
    "    ans = func(nodes[0]) + func(nodes[n])\n",
    "    for i in range(1, n):\n",
    "        ans += 2 * func(nodes[i])\n",
    "    return (h / 2) * ans"
   ]
  },
  {
   "cell_type": "code",
   "execution_count": 37,
   "id": "0934c7f8",
   "metadata": {},
   "outputs": [
    {
     "name": "stdout",
     "output_type": "stream",
     "text": [
      "-0.006722276918013548\n",
      "-0.006641504675715004\n"
     ]
    }
   ],
   "source": [
    "int_func = lambda x: x * np.log(x) + x**3/3 - x\n",
    "print(trapezoid(nodes, 10, 0.05, func))\n",
    "print(int_func(0.9) - int_func(0.4))"
   ]
  },
  {
   "cell_type": "markdown",
   "id": "94b005cf",
   "metadata": {},
   "source": [
    "Формула Симпсона (или параболическое правило) — один из наиболее точных и популярных численных методов интегрирования. Она основана на аппроксимации функции параболой на каждом отрезке и вычислении площади под этой параболой.\n",
    "\n",
    "Метод Симпсона заменяет функцию f(x) на каждом участке интервалом второй степени (параболой), проходящей через три точки: левую, середину и правую границу."
   ]
  },
  {
   "cell_type": "code",
   "execution_count": 38,
   "id": "f112be17",
   "metadata": {},
   "outputs": [],
   "source": [
    "def simpson(nodes, n, h, func):\n",
    "    if n % 2 != 0:\n",
    "        raise ValueError(\"n must be even for Simpson's\")\n",
    "\n",
    "    ans = func(nodes[0]) + func(nodes[n])\n",
    "    for i in range(1, n):\n",
    "        coef = 4 if i % 2 == 1 else 2\n",
    "        ans += coef * func(nodes[i])\n",
    "    return (h / 3) * ans"
   ]
  },
  {
   "cell_type": "code",
   "execution_count": 39,
   "id": "fcd9107b",
   "metadata": {},
   "outputs": [
    {
     "name": "stdout",
     "output_type": "stream",
     "text": [
      "-0.006642471779189107\n",
      "-0.006641504675715004\n"
     ]
    }
   ],
   "source": [
    "int_func = lambda x: x * np.log(x) + x**3/3 - x\n",
    "print(simpson(nodes, 10, 0.05, func))\n",
    "print(int_func(0.9) - int_func(0.4))"
   ]
  },
  {
   "cell_type": "markdown",
   "id": "4898abcf",
   "metadata": {},
   "source": [
    "Формула, изображённая на твоем скриншоте — это формула Веддля. Это численный метод интегрирования, который представляет собой частный случай интерполяционных квадратур Ньютона-Котеса высокой степени точности."
   ]
  },
  {
   "cell_type": "code",
   "execution_count": 40,
   "id": "f4f8f3fa",
   "metadata": {},
   "outputs": [],
   "source": [
    "def weddle(values, h):\n",
    "    if (len(values) - 1) % 6 != 0:\n",
    "        raise ValueError(\"Number of intervals must be divisible by 6\")\n",
    "\n",
    "    n = len(values) - 1\n",
    "    result = 0\n",
    "    for i in range(0, n, 6):\n",
    "        result += values[i] + 5*values[i+1] + values[i+2] + 6*values[i+3] + values[i+4] + 5*values[i+5] + values[i+6]\n",
    "    return (3*h/10) * result"
   ]
  },
  {
   "cell_type": "code",
   "execution_count": 42,
   "id": "75f7dbee",
   "metadata": {},
   "outputs": [
    {
     "name": "stdout",
     "output_type": "stream",
     "text": [
      "0.0785162554752338\n",
      "0.07851629274966199\n"
     ]
    }
   ],
   "source": [
    "int_func = lambda x: x * np.log(x) + x**3/3 - x\n",
    "new_values = [func(0.4 + i * 0.05) for i in range(13)]\n",
    "print(weddle(new_values, 0.05))\n",
    "print(int_func(1) - int_func(0.4))"
   ]
  },
  {
   "cell_type": "code",
   "execution_count": 43,
   "id": "f34fd0f7",
   "metadata": {},
   "outputs": [],
   "source": [
    "def newton_cotes(func, a, b, n, coeffs):\n",
    "    if len(coeffs) != n + 1:\n",
    "        raise ValueError(\"The length of the list of coefficients must be equal to n + 1\")\n",
    "\n",
    "    h = (b - a) / n\n",
    "    result = 0\n",
    "    for k in range(n + 1):\n",
    "        xk = a + k * h\n",
    "        result += coeffs[k] * func(xk)\n",
    "    return (b - a) * result"
   ]
  },
  {
   "cell_type": "code",
   "execution_count": 44,
   "id": "d438c53d",
   "metadata": {},
   "outputs": [
    {
     "name": "stdout",
     "output_type": "stream",
     "text": [
      "-0.059971895621705004\n",
      "-0.05972396419697723\n"
     ]
    }
   ],
   "source": [
    "int_func = lambda x: x * np.log(x) + x**3/3 - x\n",
    "print(newton_cotes(func, 0.4, 0.5, 1, [1/2, 1/2]))\n",
    "print(int_func(0.5) - int_func(0.4))"
   ]
  },
  {
   "cell_type": "code",
   "execution_count": 45,
   "id": "0d1d6cd4",
   "metadata": {},
   "outputs": [],
   "source": [
    "def gauss(func, a, b, n, t, coeffs):\n",
    "    temp_sum = 0\n",
    "    for i in range(n):\n",
    "        temp_sum += coeffs[i] * func((b + a)/2 + (b - a)*t[i]/2)\n",
    "    return (b-a)/2*temp_sum"
   ]
  },
  {
   "cell_type": "code",
   "execution_count": 47,
   "id": "25fd4d32",
   "metadata": {},
   "outputs": [
    {
     "name": "stdout",
     "output_type": "stream",
     "text": [
      "-0.05960076962177715\n",
      "-0.05972396419697723\n"
     ]
    }
   ],
   "source": [
    "int_func = lambda x: x * np.log(x) + x**3/3 - x\n",
    "print(gauss(func, 0.4, 0.5, 1, [0],[2]))\n",
    "print(int_func(0.5) - int_func(0.4))"
   ]
  }
 ],
 "metadata": {
  "kernelspec": {
   "display_name": "Python 3",
   "language": "python",
   "name": "python3"
  },
  "language_info": {
   "codemirror_mode": {
    "name": "ipython",
    "version": 3
   },
   "file_extension": ".py",
   "mimetype": "text/x-python",
   "name": "python",
   "nbconvert_exporter": "python",
   "pygments_lexer": "ipython3",
   "version": "3.12.10"
  }
 },
 "nbformat": 4,
 "nbformat_minor": 5
}
