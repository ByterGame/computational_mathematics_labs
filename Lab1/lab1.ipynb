{
 "cells": [
  {
   "cell_type": "markdown",
   "metadata": {},
   "source": [
    "Нестеров И.С. Б9123-01.03.02сп"
   ]
  },
  {
   "cell_type": "markdown",
   "metadata": {},
   "source": [
    "Тема 1. Интерполирование функции с помощью\n",
    "многочленов Лагранжа и многочленов Ньютона с разделенными разностями"
   ]
  },
  {
   "cell_type": "code",
   "execution_count": 11,
   "metadata": {},
   "outputs": [],
   "source": [
    "from math import log, cos\n",
    "from typing import Callable"
   ]
  },
  {
   "cell_type": "markdown",
   "metadata": {},
   "source": [
    "1. На отрезке [a,b] получить таблицу значений функции y=f(x) в равноотстоящих точках $xi = a + ih;i = 0, 1, 2, . . . , 10; h = (b − a)/10$. Варианты\n",
    "функции y = f(x) и отрезка [a,b], в моем случае отрезок [0.4, 0.9]"
   ]
  },
  {
   "cell_type": "code",
   "execution_count": 21,
   "metadata": {},
   "outputs": [
    {
     "name": "stdout",
     "output_type": "stream",
     "text": [
      "0.4\n",
      "0.45\n",
      "0.5\n",
      "0.55\n",
      "0.6\n",
      "0.65\n",
      "0.7\n",
      "0.75\n",
      "0.8\n",
      "0.85\n",
      "0.9\n"
     ]
    }
   ],
   "source": [
    "function = lambda x: x**2 + log(x)\n",
    "abs_error = lambda x, y: abs(x - y) if x else \"inf\"\n",
    "h = (0.9 - 0.4)/10\n",
    "grid = [round(0.4 + h * i, 2) for i in range(11)]\n",
    "print(*grid, sep='\\n')"
   ]
  },
  {
   "cell_type": "markdown",
   "metadata": {},
   "source": [
    " 2. С помощью интерполяционных формул Лагранжа и Ньютона с разделенными разностями выполнить линейную интерполяцию в точке $x^∗$. Допустима ли линейная интерполяция таблично заданной функции в точке $x^* (x_i<x∗<x_{i+1})$, обеспечивающая погрешность, не превосходящую $10^{−4}$?\n",
    "Сравнить результаты со значением, получаемым при непосредственном вычислении по формуле $y^∗ = f(x^∗)$. "
   ]
  },
  {
   "cell_type": "code",
   "execution_count": 15,
   "metadata": {},
   "outputs": [],
   "source": [
    "def find_nearest(grid: list[float],\n",
    "                 node: float = 0) -> int:\n",
    "    \"\"\"\n",
    "    Эта функция возвращает индекс ближайшего по значению элемента из списка grid к числу node\n",
    "    Args:\n",
    "        grid (Optional[list[float]], optional): Список узлов сетки. Defaults to None.\n",
    "        node (float, optional): Точка, к которой нужно найти ближайюшую из сетки. Defaults to 0.\n",
    "\n",
    "    Returns:\n",
    "        int: Индекс ближайшего элемента\n",
    "    \"\"\"\n",
    "    l = 0\n",
    "    r = len(grid) - 1\n",
    "    while r - l > 1:\n",
    "        avr = (r + l) // 2\n",
    "        if grid[avr] > node:\n",
    "            r = avr\n",
    "        else:\n",
    "            l = avr\n",
    "    return l if abs(node - grid[l]) < abs(node - grid[r]) else r"
   ]
  },
  {
   "cell_type": "markdown",
   "metadata": {},
   "source": [
    "$ L(x) = \\sum_{i=0}^{n} f(x_i) * \\prod_{j=0, j \\neq i}^{n} \\frac{x - x_j}{x_i - x_j} $"
   ]
  },
  {
   "cell_type": "code",
   "execution_count": 16,
   "metadata": {},
   "outputs": [],
   "source": [
    "\n",
    "def lagrange_interpolate(function: Callable[[float], float], \n",
    "                         node: float = 0, grid: list[float] = None) -> float:\n",
    "    \"\"\"\n",
    "        Функция, которая вычисляет интерполяционный многочлен Лагранжа\n",
    "    Args:\n",
    "        function (Callable[[float], float]): Функция, которую нужно интерполировать \n",
    "        node (float, optional): Узел. Defaults to 0.\n",
    "        degree (int, optional): Степень полинома Лагранжа (). Defaults to 10.\n",
    "        grid (Optional[list[float]], optional): Сетка узлов. Defaults to None.\n",
    "\n",
    "    Returns:\n",
    "        Optional[float]: Значения функции\n",
    "    \"\"\"\n",
    "    interpolation_polynom = 0        \n",
    "    for i in range(len(grid)):\n",
    "        prod = 1\n",
    "        \n",
    "        for j in range(len(grid)):\n",
    "            if i == j: continue\n",
    "            prod *= (node - grid[j])/(grid[i] - grid[j])        \n",
    "        interpolation_polynom += prod * function(grid[i])\n",
    "        \n",
    "    return interpolation_polynom"
   ]
  },
  {
   "cell_type": "code",
   "execution_count": 23,
   "metadata": {},
   "outputs": [
    {
     "name": "stdout",
     "output_type": "stream",
     "text": [
      "Линейная интерполяция: x = 0.52  -0.3835264674066639 -0.3840231086382153\n",
      "Ошибка интерполяции: 0.000496641231551409\n",
      "Квадратичная интерполяция: x = 0.52 -0.3835264674066639 -0.38341706833579514\n",
      "Ошибка интерполяции: 0.00010939907086876532\n",
      "Линейная интерполяция: x = 0.42  -0.6911005677047231 -0.6921775176116017\n",
      "Ошибка интерполяции: 0.001076949906878677\n",
      "Квадратичная интерполяция: x = 0.42 -0.6911005677047231 -0.6912868152117749\n",
      "Ошибка интерполяции: 0.0001862475070518732\n",
      "Линейная интерполяция: x = 0.87  0.6176379326664924 0.617230919228799\n",
      "Ошибка интерполяции: 0.00040701343769333764\n",
      "Квадратичная интерполяция: x = 0.87 0.6176379326664924 0.6175350274188807\n",
      "Ошибка интерполяции: 0.0001029052476116954\n",
      "Линейная интерполяция: x = 0.67  0.04842243340287483 0.04836027276903461\n",
      "Ошибка интерполяции: 6.216063384022197e-05\n",
      "Квадратичная интерполяция: x = 0.67 0.04842243340287483 0.04847244103141235\n",
      "Ошибка интерполяции: 5.000762853751839e-05\n"
     ]
    }
   ],
   "source": [
    "x_test = [0.52, 0.42, 0.87, 0.67]\n",
    "for x in x_test:\n",
    "    i = find_nearest(grid=grid, node=x)\n",
    "    if grid[i] >= x:\n",
    "        lin_grid = [grid[i-1 if i > 0 else 0], grid[i if i > 0 else 1]]    \n",
    "        sqr_grid = [grid[i-1 if 0 < i < 9 else 0 if i == 0 else 7], grid[i if 0 < i < 9 else 1 if i == 0 else 8], grid[i+1 if 0 < i < 9 else 9 if i == 9 else 2]]\n",
    "    else:\n",
    "        lin_grid = [grid[i if i < 9 else 8], grid[i+1 if i < 9 else 9]]    \n",
    "        sqr_grid = [grid[i-1 if 0 < i < 9 else 0 if i == 0 else 7], grid[i if 0 < i < 9 else 1 if i == 0 else 8], grid[i+1 if 0 < i < 9 else 9 if i == 9 else 2]]\n",
    "    print(f'Линейная интерполяция: x = {x} ', function(x), lagrange_interpolate(function=function, node=x, grid=lin_grid))\n",
    "    print('Ошибка интерполяции:', abs_error(function(x), lagrange_interpolate(function=function, node=x, grid=lin_grid)))\n",
    "    print(f'Квадратичная интерполяция: x = {x}', function(x), lagrange_interpolate(function=function, node=x, grid=sqr_grid))\n",
    "    print('Ошибка интерполяции:', abs_error(function(x), lagrange_interpolate(function=function, node=x, grid=sqr_grid)))\n"
   ]
  },
  {
   "cell_type": "markdown",
   "metadata": {},
   "source": [
    "$ P_n(x) = f(x_0) + \\sum_{k=1}^{n}(f(x_0,...,x_k ) * \\prod_{i=0}^{k-1}(x - x_i)) $\n",
    "\n",
    "$ f(x_0,...,x_k) = \\sum_{i=0}^{k}(\\frac{f(x_i)}{\\prod_{j=0, j \\neq i}^{k}(x_i-x_j)}) $"
   ]
  },
  {
   "cell_type": "code",
   "execution_count": 18,
   "metadata": {},
   "outputs": [],
   "source": [
    "def newton_interpolate(function: Callable[[float], float],\n",
    "                       node: float,\n",
    "                       grid: list[float]) -> float:\n",
    "    \"\"\"\n",
    "    Эта функция высчитывает и возвращает интерполяционный полином Ньютона\n",
    "    Args:\n",
    "        function (Callable[[float], float]): Функция, которую нужно интерполировать\n",
    "        node (float): Точка, в которой хотим найти значение\n",
    "        grid (List[float]): Сетка узлов\n",
    "\n",
    "    Returns:\n",
    "        float: Значение интерполяционного полинома Ньютона в точке node\n",
    "    \"\"\"\n",
    "    n = len(grid)    \n",
    "    f_values = [function(x) for x in grid]\n",
    "    \n",
    "    divided_differences = [[0] * n for _ in range(n)]\n",
    "    \n",
    "    for i in range(n):\n",
    "        divided_differences[i][0] = f_values[i]\n",
    "    \n",
    "    for j in range(1, n):\n",
    "        for i in range(n - j):\n",
    "            divided_differences[i][j] = (\n",
    "                divided_differences[i + 1][j - 1] - divided_differences[i][j - 1]\n",
    "            ) / (grid[i + j] - grid[i])\n",
    "    \n",
    "    interpolation_polynomial = divided_differences[0][0]\n",
    "    product_term = 1.0\n",
    "    \n",
    "    for k in range(1, n):\n",
    "        product_term *= (node - grid[k - 1])\n",
    "        interpolation_polynomial += divided_differences[0][k] * product_term\n",
    "    \n",
    "    return interpolation_polynomial"
   ]
  },
  {
   "cell_type": "code",
   "execution_count": null,
   "metadata": {},
   "outputs": [
    {
     "name": "stdout",
     "output_type": "stream",
     "text": [
      "Линейная интерполяция: x = 0.52  -0.3835264674066639 -0.3840231086382153\n",
      "Ошибка интерполяции: 0.000496641231551409\n",
      "Квадратичная интерполяция: x = 0.52 -0.3835264674066639 -0.38341706833579514\n",
      "Ошибка интерполяции: 0.00010939907086876532\n"
     ]
    }
   ],
   "source": [
    "x_test = [0.52, 0.42, 0.87, 0.67]\n",
    "for x in x_test:\n",
    "    i = find_nearest(grid=grid, node=x)\n",
    "    if grid[i] >= x:\n",
    "        lin_grid = [grid[i-1 if i > 0 else 0], grid[i if i > 0 else 1]]    \n",
    "        sqr_grid = [grid[i-1 if 0 < i < 9 else 0 if i == 0 else 7], grid[i if 0 < i < 9 else 1 if i == 0 else 8], grid[i+1 if 0 < i < 9 else 9 if i == 9 else 2]]\n",
    "    else:\n",
    "        lin_grid = [grid[i if i < 9 else 8], grid[i+1 if i < 9 else 9]]    \n",
    "        sqr_grid = [grid[i-1 if 0 < i < 9 else 0 if i == 0 else 7], grid[i if 0 < i < 9 else 1 if i == 0 else 8], grid[i+1 if 0 < i < 9 else 9 if i == 9 else 2]]\n",
    "    print(f'Линейная интерполяция: x = {x} ', function(x), newton_interpolate(function=function, node=x, grid=lin_grid))\n",
    "    print('Ошибка интерполяции:', abs_error(function(x), newton_interpolate(function=function, node=x, grid=lin_grid)))\n",
    "    print(f'Квадратичная интерполяция: x = {x}', function(x), newton_interpolate(function=function, node=x, grid=sqr_grid))\n",
    "    print('Ошибка интерполяции:', abs_error(function(x), newton_interpolate(function=function, node=x, grid=sqr_grid)))"
   ]
  },
  {
   "cell_type": "markdown",
   "metadata": {},
   "source": [
    "С помощью формулы остаточного члена интерполяционной формулы Лагранжа первого порядка $R_1(x) = f^{′′}(ξ)ω_2(x)/2$, где $ξ ∈ [x_i, x_{i+1}]$, а\n",
    "$ω_2(x) = (x−x_i)·(x−x_i+1)$, на отрезке $[x_i, x_i+1]$ оценить минимальное и максимальное значения $f^{′′}(x)$, а затем минимальное и максимальное значения остаточного члена $R_1(x)$."
   ]
  },
  {
   "cell_type": "markdown",
   "metadata": {},
   "source": [
    "Так как я выбрал функцию $ x^2 + ln(x) $ то её вторая производная будет иметь вид $ 2 - \\frac{1}{x^2} $, тогда ее максимальное значения на отрезке $ [x_i, x_{i+1}] $ будет в конце отрезка, т.е. в точке $ x_{i+1} $, а минимум в точке $ x_{i} $ соответственно\n",
    "Тогда, при $ x^* = 0.52 $ будем рассматривать отрезок $[0.5, 0.55]$. На этом отрезке $ min(f^{''}(\\xi)) = f^{''}(0.5) = -2$, а $ max(f^{''}(\\xi)) = f^{''}(0.55) = -1.3057851239669418 $ \n",
    "\n",
    "$ \\omega_2(x) = (x - x_i)(x - x_{i+1}) = (0.52 - 0.5)(0.52 - 0.55) = -0.0003 $ \n",
    "\n",
    "$ max(R_1(0.52)) = -1.3057851239669418 * -0.00015 =  0.00019586776859504125$\n",
    "\n",
    "$ min(R_1(0.52)) = -2 * -0.00015 = 0.0003 $\n",
    "\n",
    "Проверим $0.00019586776859504125 < R_1(0.52) < 0.0003$\n",
    "\n",
    "$ L1(x^∗) = f(x_i) · \\frac{x^∗ − x_{i+1}}{x_i − x_{i+1}} + f(x_{i+1}) · \\frac{x^∗ − x_i}{x_{i+1} − x_i} = -0.4431471805599453 * \\frac{0.52 - 0.55}{0.5 - 0.55} - 0.29533700075562036 * \\frac{0.52 - 0.5}{0.55 - 0.5}  = -0.3840231086382153 $\n",
    "\n",
    "$ R_1(x^*) = L_1(x^*) - f(x^*) = L_1(0.52) - f(0.52) = -0.3840231086382153 + 0.3835264674066639 = -0.000496641231551409$\n",
    "\n",
    "Неравенство не выполняется => погрешность может превосходить $ 10^{-4} $"
   ]
  },
  {
   "cell_type": "markdown",
   "metadata": {},
   "source": [
    "Ответим на вопрос о том,  допустима ли квадратичная интерполяция таблично заданной функции в точке $x^∗$, обеспечивающая погрешность, не превосходящую $10^{−5}$?"
   ]
  },
  {
   "cell_type": "markdown",
   "metadata": {},
   "source": [
    "По интерполяционной формуле Лагранжа второго порядка вычислим $L_2$\n",
    "\n",
    "$ L_2(x) = f(x_{i-1}) \\frac{(x^* - x_i)(x^* - x_{i+1})}{(x_{i-1} - x_i)(x_{i-1} - x_{i+1})} + f(x_i) \\frac{(x^* - x_{i-1})(x^*-x_{i+1})}{(x_i - x_{i-1})(x_i - x_{i+1})} + f(x_{i+1}) \\frac{(x^* - x_{i-1})(x^*-x_i)}{(x_{i+1}-x_{i-1})(x_{i+1}-x_i)}$, здесь $ x_{i-1} = 0.45, x_i=0.5, x_{i+1} = 0.55, x^* = 0.52 $\n",
    "\n",
    "$ L_2(x) = -0.38341706833579514 $\n",
    "\n",
    "$ R_2(x) = f^{′′′}(ξ)ω_3(x)/6, ξ ∈ [x_{i−1}, x_{i+1}], ω_3(x) = (x−x_{i−1})(x−x_i)(x−x_{i+1}) $\n",
    "\n",
    "$ f^{′′′}(x) = \\frac{2}{x^3} $, чем меньше х, тем больше значение производной => максимум будет достигаться $ x_{i-1} $, а минимум в $ x_{i+1} $\n",
    "\n",
    "$ min(f^{′′′}(x)) = f^{′′′}(0.55) = 12.02103681442524, max(f^{′′′}(x)) = f^{′′′}(0.45) = 21.94787379972565 $\n",
    "\n",
    "$ \\omega_3(0.52) = -0.000042 $\n",
    "\n",
    "$ min(R_2(x)) = 12.02103681442524 * -0.000042 / 6 = -0.000084 $\n",
    "\n",
    "$ max(R_2(x)) = 21.94787379972565 * -0.000042 / 6 = -0.000154 $\n",
    "\n",
    "$ R_2(0.52) = -0.38341706833579514 + 0.3835264674066639 = 0.00010939907086876532 $\n",
    "\n",
    "Насколько я понимаю, тут должен быть модуль, но в методичке его нет... Если без него, то неравенство не выполняется, если с ним, то выполняется.\n",
    "Я думаю, что модуль должен быть\n"
   ]
  }
 ],
 "metadata": {
  "kernelspec": {
   "display_name": ".venv",
   "language": "python",
   "name": "python3"
  },
  "language_info": {
   "codemirror_mode": {
    "name": "ipython",
    "version": 3
   },
   "file_extension": ".py",
   "mimetype": "text/x-python",
   "name": "python",
   "nbconvert_exporter": "python",
   "pygments_lexer": "ipython3",
   "version": "3.12.9"
  }
 },
 "nbformat": 4,
 "nbformat_minor": 2
}
