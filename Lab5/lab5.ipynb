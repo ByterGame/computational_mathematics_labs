{
 "cells": [
  {
   "cell_type": "markdown",
   "id": "b45fd0d1",
   "metadata": {},
   "source": [
    "Дана система линейных алгебраических уравнений специального вида\n",
    "\n",
    "$A_kU_{k - 1} + B_kU_k + C_kU_{k+1} = F_k \\quad (1) \\\\ k = \\overline{1, N} \\\\ A_1 = C_N = 0$\n",
    "\n",
    "Здесь $A_k, B_k, C_k,\\ k = \\overline{1, N}$ - заданные коэффициенты системы, которые можно рассматривать как три диагонали матрицы системы, а остальные коэффициенты системы равны нулю; $F_k,\\ k = \\overline{1, N}$ - правые части,\n",
    "$U_k,\\ k = \\overline{1, N}$ - искомые значения, решения системы (1)."
   ]
  },
  {
   "cell_type": "markdown",
   "id": "ef607703",
   "metadata": {},
   "source": [
    "Выразим из первого уравнения системы (1) $U_1$ в виде\n",
    "\n",
    "$\\displaystyle U_1 = -\\frac{C_1}{B_1}U_2 + \\frac{F_1}{B_1} \\quad (2)$\n",
    "\n",
    "Введем обозначения $\\displaystyle\\alpha_2 = -\\frac{C_1}{B_1},\\ \\beta_2 = \\frac{F_1}{B_1} \\quad (3)$\n",
    "\n",
    "Тогда соотношение (2) перепишется следующим образом $U_1 = \\alpha_2U_2 + \\beta_2 \\quad (4)$\n",
    "\n",
    "Предположим, что $U_{k-1} = \\alpha_kU_k + \\beta_k \\quad (5)$\n",
    "\n",
    "Исключим из $k$-го уравнения системы (1) $U_{k−1}$, подставив соотношение (5)\n",
    "в $k$-ое уравнение, $A_k(α_kU_k + β_k) + B_kU_k + C_kU_{k+1} = F_k$, выразим из него\n",
    "$U_k$:\n",
    "\n",
    "$\\displaystyle U_k = -\\frac{C_k}{B_k + A_k\\alpha_k}U_{k+1} + \\frac{F_k - A_k\\beta_k}{B_k + A_k\\alpha_k}$\n",
    "\n",
    "Отсюда видно, что введя обозначения:\n",
    "\n",
    "$\\displaystyle \\beta_{k+1} = \\frac{F_k - A_k\\beta_k}{B_k + A_k\\alpha_k}; \\quad a_{k+1} = -\\frac{C_k}{B_k + A_k\\alpha_k} \\quad (6)$\n",
    "\n",
    "Мы сведем $k$-ое уравнение к двучленному виду: $U_k = \\alpha_{k + 1}U_{k+1} + \\beta_{k+1} \\quad (7)$\n",
    "\n",
    "Таким образом, мы показали, что для каждого $k = \\overline{1, N}$ $k$-ое уравнение системы (1) может быть приведено к виду (7), где коэффициенты\n",
    "$α_k+1$, $β_k+1$ могут быть вычислены по формулам (6). Эти коэффициенты\n",
    "называют прогоночными, а их вычисление называют прямым ходом прогонки.\n",
    "\n",
    "В преобразованиях, описанных выше, не участвовало $N$-ое уравнение\n",
    "системы (1). Это уравнение и соотношение (7) при $k = N − 1$:\n",
    "\n",
    "$\\begin{cases}\n",
    "A_NU_{N-1} + B_NU_N = F_N, \\\\\n",
    "U_{N-1} = \\alpha_NU_N + \\beta_N\n",
    "\\end{cases}$\n",
    "\n",
    "Можно использовать для определения $U_N$:\n",
    "\n",
    "$\\displaystyle U_N = \\frac{F_N - A_N\\beta_N}{A_N\\alpha_N + B_N}$\n",
    "\n",
    "Все остальные $U_k,\\ k = \\overline{N-1, 1}$, определяются по формуле (7).\n",
    "Вычисление $U_k$ является обратным ходом прогонки. Этот метод называют монотонной правой прогонкой, поскольку сведение трехчленной (или,\n",
    "говорят, трехдиагональной) системы линейных алгебраических уравнений\n",
    "к двучленному виду проводится по возрастанию номеров уравнений, начиная с первого, что совершенно не принципиально, и можно производить\n",
    "исключение одного неизвестного в каждом уравнении по убыванию номеров, тогда получим формулы монотонной левой прогонки."
   ]
  },
  {
   "cell_type": "code",
   "execution_count": 2,
   "id": "34d69842",
   "metadata": {},
   "outputs": [],
   "source": [
    "import numpy as np\n",
    "\n",
    "def thomas_algorithm(A: np.ndarray, B: np.ndarray, C: np.ndarray, F: np.ndarray) -> np.ndarray:\n",
    "    \"\"\"\n",
    "    Решает трехдиагональную систему линейных уравнений методом прогонки (методом Томаса).\n",
    "\n",
    "    Args:\n",
    "        A (np.ndarray): Коэффициенты поддиагонали, при этом A[0] не используется или равен 0.\n",
    "        B (np.ndarray): Коэффициенты главной диагонали.\n",
    "        C (np.ndarray): Коэффициенты наддиагонали, при этом C[N-1] не используется или равен 0.\n",
    "        F (np.ndarray): Вектор правой части.\n",
    "\n",
    "    Returns:\n",
    "        np.ndarray: Соответсвуюший вектор решений U, удовлетворяющий системе.\n",
    "    \"\"\"\n",
    "    N = len(B)\n",
    "    alpha = np.zeros(N)\n",
    "    beta = np.zeros(N)\n",
    "    U = np.zeros(N)\n",
    "\n",
    "    if B[0] == 0:\n",
    "        raise ZeroDivisionError(\"Нулевой элемент на главной диагонали: B[0] == 0\")\n",
    "    alpha[1] = -C[0] / B[0]\n",
    "    beta[1] = F[0] / B[0]\n",
    "\n",
    "    for k in range(1, N - 1):\n",
    "        denom = B[k] + A[k] * alpha[k]\n",
    "        if denom == 0:\n",
    "            raise ZeroDivisionError(f\"Деление на ноль при k={k}, знаменатель обращается в ноль.\")\n",
    "        alpha[k + 1] = -C[k] / denom\n",
    "        beta[k + 1] = (F[k] - A[k] * beta[k]) / denom\n",
    "\n",
    "    denom = A[N - 1] * alpha[N - 1] + B[N - 1]\n",
    "    if denom == 0:\n",
    "        raise ZeroDivisionError(\"Деление на ноль при вычислении последнего элемента.\")\n",
    "    U[N - 1] = (F[N - 1] - A[N - 1] * beta[N - 1]) / denom\n",
    "\n",
    "    for k in range(N - 2, -1, -1):\n",
    "        U[k] = alpha[k + 1] * U[k + 1] + beta[k + 1]\n",
    "\n",
    "    return U\n"
   ]
  },
  {
   "cell_type": "code",
   "execution_count": 5,
   "id": "83c50e37",
   "metadata": {},
   "outputs": [
    {
     "name": "stdout",
     "output_type": "stream",
     "text": [
      "Решение системы: [2. 1. 2.]\n",
      "Проверка (A·U ≈ F): [5. 6. 5.]\n",
      "Погрешность: [0.0000000e+00 8.8817842e-16 0.0000000e+00]\n"
     ]
    }
   ],
   "source": [
    "A = np.array([0, 1, 1], dtype=float)\n",
    "B = np.array([2, 2, 2], dtype=float)\n",
    "C = np.array([1, 1, 0], dtype=float)\n",
    "F = np.array([5, 6, 5], dtype=float)\n",
    "\n",
    "U = thomas_algorithm(A, B, C, F)\n",
    "print(\"Решение системы:\", U)\n",
    "\n",
    "def check_solution(A, B, C, U):\n",
    "    N = len(U)\n",
    "    result = np.zeros(N)\n",
    "    for i in range(N):\n",
    "        if i > 0:\n",
    "            result[i] += A[i] * U[i - 1]\n",
    "        result[i] += B[i] * U[i]\n",
    "        if i < N - 1:\n",
    "            result[i] += C[i] * U[i + 1]\n",
    "    return result\n",
    "\n",
    "F_computed = check_solution(A, B, C, U)\n",
    "print(\"Проверка (A·U ≈ F):\", F_computed)\n",
    "print(\"Погрешность:\", np.abs(F_computed - F))"
   ]
  }
 ],
 "metadata": {
  "kernelspec": {
   "display_name": "Python 3",
   "language": "python",
   "name": "python3"
  },
  "language_info": {
   "codemirror_mode": {
    "name": "ipython",
    "version": 3
   },
   "file_extension": ".py",
   "mimetype": "text/x-python",
   "name": "python",
   "nbconvert_exporter": "python",
   "pygments_lexer": "ipython3",
   "version": "3.12.10"
  }
 },
 "nbformat": 4,
 "nbformat_minor": 5
}
